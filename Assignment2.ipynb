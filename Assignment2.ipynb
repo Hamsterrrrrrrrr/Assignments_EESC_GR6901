{
 "cells": [
  {
   "cell_type": "markdown",
   "id": "26cdcae1-ef1c-4f8c-a5af-f7e942bb61b2",
   "metadata": {},
   "source": [
    "# Part I: Lists and Loops"
   ]
  },
  {
   "cell_type": "markdown",
   "id": "302021a5-f3a7-42fe-b9aa-315f256c7353",
   "metadata": {},
   "source": [
    "## 1) Create a list with the names of every planet in the solar system (in order)"
   ]
  },
  {
   "cell_type": "code",
   "execution_count": 62,
   "id": "56a846b9-afe9-426a-bd21-12110bd388ec",
   "metadata": {},
   "outputs": [],
   "source": [
    "planets = ['Mercury', 'Venus', 'Earth', 'Mars', 'Jupiter', 'Saturn', 'Uranus', 'Neptune']"
   ]
  },
  {
   "cell_type": "markdown",
   "id": "61c055ee-51a7-4c3c-a2e1-3a73fd56df42",
   "metadata": {},
   "source": [
    "## 2) Have Python tell you how many planets there are by examining your list"
   ]
  },
  {
   "cell_type": "code",
   "execution_count": 2,
   "id": "b6a5eb4d-d766-41bf-a285-c295562437f7",
   "metadata": {},
   "outputs": [
    {
     "name": "stdout",
     "output_type": "stream",
     "text": [
      "8\n"
     ]
    }
   ],
   "source": [
    "print(len(planets))"
   ]
  },
  {
   "cell_type": "markdown",
   "id": "61b37afc-7618-4a0e-be8a-712e9600bfa4",
   "metadata": {},
   "source": [
    "## 3) Use slicing to display the first four planets (the rocky planets)"
   ]
  },
  {
   "cell_type": "code",
   "execution_count": 63,
   "id": "fee456c7-3269-45e5-bbc9-40d9e03dfa3f",
   "metadata": {},
   "outputs": [
    {
     "name": "stdout",
     "output_type": "stream",
     "text": [
      "['Mercury', 'Venus', 'Earth', 'Mars']\n"
     ]
    }
   ],
   "source": [
    "print(planets[:4])"
   ]
  },
  {
   "cell_type": "markdown",
   "id": "32437088-b8e2-450d-b2f5-34c5ec1c254e",
   "metadata": {},
   "source": [
    "## 4) Iterate through your planets and print the planet name only if it has an s at the end"
   ]
  },
  {
   "cell_type": "code",
   "execution_count": 65,
   "id": "552a5338-5a92-427a-a783-66e73c04e506",
   "metadata": {},
   "outputs": [
    {
     "name": "stdout",
     "output_type": "stream",
     "text": [
      "Venus\n",
      "Mars\n",
      "Uranus\n"
     ]
    }
   ],
   "source": [
    "for i in range(len(planets)):\n",
    "   if planets[i][-1] == 's':\n",
    "       print(planets[i])"
   ]
  },
  {
   "cell_type": "markdown",
   "id": "08795946-c51a-47d3-b7e5-f5e322316bcb",
   "metadata": {},
   "source": [
    "# Part II: Dictionaries"
   ]
  },
  {
   "cell_type": "markdown",
   "id": "e8e632d7-33f0-4f52-b6ae-cb0d8e0a53c2",
   "metadata": {},
   "source": [
    "## 1) Now create a dictionary that maps each planet name to its mass"
   ]
  },
  {
   "cell_type": "code",
   "execution_count": 68,
   "id": "3d5383f9-e4fe-4494-a20e-cbaddd068771",
   "metadata": {},
   "outputs": [],
   "source": [
    "planets_mass = {\n",
    "    'Mercury': 0.330e24, \n",
    "    'Venus': 4.87e24, \n",
    "    'Earth': 5.97e24, \n",
    "    'Mars': 0.642e24, \n",
    "    'Jupiter': 1898e24, \n",
    "    'Saturn': 568e24, \n",
    "    'Uranus': 86.8e24, \n",
    "    'Neptune': 102e24}"
   ]
  },
  {
   "cell_type": "markdown",
   "id": "bc431e90-e058-4dab-bd3e-c335b722a5c9",
   "metadata": {},
   "source": [
    "## 2) Use your dictionary to look up Earth’s mass"
   ]
  },
  {
   "cell_type": "code",
   "execution_count": 69,
   "id": "9bfd0093-b687-47c3-8c1c-145e68d5bc99",
   "metadata": {},
   "outputs": [
    {
     "name": "stdout",
     "output_type": "stream",
     "text": [
      "The mass of earth is 5.97e+24 kg.\n"
     ]
    }
   ],
   "source": [
    "earth_mass = planets_mass['Earth']\n",
    "print('The mass of earth is ' + str(earth_mass) + ' kg.')"
   ]
  },
  {
   "cell_type": "markdown",
   "id": "efa62654-2892-479e-8ce1-4e354e18b42a",
   "metadata": {},
   "source": [
    "## 3) Loop through the data and create a list of planets whose mast is greater than 100 x 10^24 kg"
   ]
  },
  {
   "cell_type": "code",
   "execution_count": 72,
   "id": "7a9bc4ca-a3e9-460e-8587-cd128f03c310",
   "metadata": {},
   "outputs": [
    {
     "name": "stdout",
     "output_type": "stream",
     "text": [
      "A list of planets whose mast is greater than 100 x 10^24 kg: ['Jupiter', 'Saturn', 'Neptune']\n"
     ]
    }
   ],
   "source": [
    "planets_greater_than_100 = []\n",
    "\n",
    "for planet in planets_mass:\n",
    "    if planets_mass[planet] > 100e24:\n",
    "        planets_greater_than_100.append(planet)\n",
    "\n",
    "print(f'A list of planets whose mast is greater than 100 x 10^24 kg: {planets_greater_than_100}')  "
   ]
  },
  {
   "cell_type": "markdown",
   "id": "457857a2-5696-49c4-aa81-66cd48b94975",
   "metadata": {},
   "source": [
    "## 4) Now add pluto to your dictionary"
   ]
  },
  {
   "cell_type": "code",
   "execution_count": 73,
   "id": "9eaeded7-fa92-4611-85de-33e4d6a3f535",
   "metadata": {},
   "outputs": [
    {
     "name": "stdout",
     "output_type": "stream",
     "text": [
      "{'Mercury': 3.3e+23, 'Venus': 4.87e+24, 'Earth': 5.97e+24, 'Mars': 6.42e+23, 'Jupiter': 1.898e+27, 'Saturn': 5.68e+26, 'Uranus': 8.68e+25, 'Neptune': 1.02e+26, 'Pluto': 1.3e+22}\n"
     ]
    }
   ],
   "source": [
    "planets_mass['Pluto'] = 0.0130e24\n",
    "\n",
    "print(planets_mass)"
   ]
  },
  {
   "cell_type": "markdown",
   "id": "5abb76d9-f379-45e7-ab30-fbcd63de51f7",
   "metadata": {},
   "source": [
    "# Part III: Functions"
   ]
  },
  {
   "cell_type": "markdown",
   "id": "00e6efc7-1271-4588-b517-68da5067426f",
   "metadata": {},
   "source": [
    "## 1) Write a function to convert temperature from kelvin to celsius and celsius to kelvin"
   ]
  },
  {
   "cell_type": "code",
   "execution_count": 77,
   "id": "e5151a8e-0a01-4cc7-9fab-fb386c13a42f",
   "metadata": {},
   "outputs": [],
   "source": [
    "def kelvin_to_celsius(kelvin_temp):\n",
    "    celsius_temp = kelvin_temp - 273.15  \n",
    "    return celsius_temp\n",
    "\n",
    "def celsius_to_kelvin(celsius_temp):\n",
    "    kelvin_temp = celsius_temp + 273.15  \n",
    "    return kelvin_temp"
   ]
  },
  {
   "cell_type": "markdown",
   "id": "a43dfe1e-860a-4eba-9698-15bfd0ec31ba",
   "metadata": {},
   "source": [
    "## 2) Write a function to convert temperature to fahrenheit\n",
    "## Include an optional keyword argument to specify whether the input is in celcius or kelvin. "
   ]
  },
  {
   "cell_type": "code",
   "execution_count": 117,
   "id": "5ab2ecee-23a0-4042-bd2d-31230894ae42",
   "metadata": {},
   "outputs": [],
   "source": [
    "def temp_to_fahrenheit(temp, kelvin=True):\n",
    "    if kelvin:\n",
    "        celsius_temp = kelvin_to_celsius(temp)\n",
    "        fahrenheit_temp = (celsius_temp * 9/5) + 32\n",
    "    else:\n",
    "        fahrenheit_temp = (temp * 9/5) + 32  \n",
    "    return fahrenheit_temp"
   ]
  },
  {
   "cell_type": "markdown",
   "id": "6f45d827-ef09-45f6-bd38-92bddd4bead7",
   "metadata": {},
   "source": [
    "## 3) Check that the outputs are sensible by trying a few examples"
   ]
  },
  {
   "cell_type": "code",
   "execution_count": 116,
   "id": "fea80a10-8b17-4fef-b7b8-39f28d75cdf2",
   "metadata": {},
   "outputs": [
    {
     "name": "stdout",
     "output_type": "stream",
     "text": [
      "300 K is 26.85 C.\n",
      "300 C is 573.15 K.\n",
      "300 K is 80.33 F\n",
      "300 C is 572.00 F\n"
     ]
    }
   ],
   "source": [
    "# Example 1: Convert Kelvin to Celsius\n",
    "kelvin_temperature = 300\n",
    "celsius_temperature = kelvin_to_celsius(kelvin_temperature)\n",
    "print(f'{kelvin_temperature} K is {celsius_temperature:.2f} C.')\n",
    "\n",
    "# Example 2: Convert Celsius to Kelvin\n",
    "celsius_temperature = 300\n",
    "kelvin_temperature = celsius_to_kelvin(celsius_temperature)\n",
    "print(f'{celsius_temperature} C is {kelvin_temperature:.2f} K.')\n",
    "\n",
    "# Example 3: Convert Kelvin to Fahrenheit\n",
    "kelvin_temperature = 300\n",
    "fahrenheit_temp = temp_to_fahrenheit(kelvin_temperature)\n",
    "print(f'{kelvin_temperature} K is {fahrenheit_temp_celsius:.2f} F')\n",
    "\n",
    "# Example 4: Convert Celsius to Fahrenheit\n",
    "celsius_temperature = 300\n",
    "fahrenheit_temp = temp_to_fahrenheit(celsius_temperature, kelvin=False)\n",
    "print(f'{celsius_temperature} C is {fahrenheit_temp_kelvin:.2f} F')"
   ]
  },
  {
   "cell_type": "markdown",
   "id": "074b997d-1cab-4629-a2fb-b5880a65aff3",
   "metadata": {},
   "source": [
    "## 4) Now write a function that converts from farenheit"
   ]
  },
  {
   "cell_type": "code",
   "execution_count": 84,
   "id": "e5ed12d9-825e-424d-a5e4-ff8840d4327b",
   "metadata": {},
   "outputs": [],
   "source": [
    "def fahrenheit_to_temp(fahrenheit_temp, kelvin=True):\n",
    "    if kelvin:\n",
    "        celsius_temp = (fahrenheit_temp - 32) * 5/9\n",
    "        kelvin_temp = celsius_to_kelvin(celsius_temp)\n",
    "        return kelvin_temp\n",
    "    else:\n",
    "        celsius_temp = (fahrenheit_temp - 32) * 5/9\n",
    "        return celsius_temp"
   ]
  },
  {
   "cell_type": "code",
   "execution_count": 115,
   "id": "6ffea6d9-e61a-4c09-8ef4-49d7bfca7f1b",
   "metadata": {},
   "outputs": [
    {
     "name": "stdout",
     "output_type": "stream",
     "text": [
      "80 F is 26.67 C\n",
      "80 F is 299.82 K\n"
     ]
    }
   ],
   "source": [
    "temperature_fahrenheit = 80  # Example temperature in Fahrenheit\n",
    "\n",
    "# Example1: Convert Fahrenheit to Celsius\n",
    "celsius_temp = fahrenheit_to_temp(temperature_fahrenheit, kelvin=False)\n",
    "print(f'{temperature_fahrenheit} F is {celsius_temp:.2f} C')\n",
    "\n",
    "# Example2: Convert Fahrenheit to Kelvin\n",
    "kelvin_temp = fahrenheit_to_temp(temperature_fahrenheit)\n",
    "print(f'{temperature_fahrenheit} F is {kelvin_temp:.2f} K')"
   ]
  },
  {
   "cell_type": "markdown",
   "id": "bdfd15aa-15e9-4303-aee7-e1698408ea94",
   "metadata": {},
   "source": [
    "## 5) Write a function that takes two arguments (feet and inches) and returns height in meters"
   ]
  },
  {
   "cell_type": "code",
   "execution_count": 88,
   "id": "f484961e-f800-4e19-9f6a-3fc2b548f45f",
   "metadata": {},
   "outputs": [],
   "source": [
    "def feet_and_inches_to_meters(feet, inches):\n",
    "    total_inches = (feet * 12) + inches\n",
    "    meters = total_inches * 0.0254\n",
    "    return meters"
   ]
  },
  {
   "cell_type": "code",
   "execution_count": 114,
   "id": "6f3668f8-1dee-46bf-ad54-c9cf3a19936d",
   "metadata": {},
   "outputs": [
    {
     "name": "stdout",
     "output_type": "stream",
     "text": [
      "8 feet and 6 inches is 2.59 meters.\n"
     ]
    }
   ],
   "source": [
    "# Example \n",
    "feet = 8\n",
    "inches = 6\n",
    "meters = feet_and_inches_to_meters(feet, inches)\n",
    "print(f'{feet} feet and {inches} inches is {meters:.2f} meters.')"
   ]
  },
  {
   "cell_type": "markdown",
   "id": "2bcdecd9-ebe9-4608-812b-39bc8660a0e7",
   "metadata": {},
   "source": [
    "## 6. Write a function takes one argument (height in meters) and returns two arguments (feet and inches)"
   ]
  },
  {
   "cell_type": "code",
   "execution_count": 102,
   "id": "d4f8cb67-fa93-499e-90b6-d74d44f42a79",
   "metadata": {},
   "outputs": [],
   "source": [
    "def meters_to_feet_and_inches(meters):\n",
    "    total_inches = meters / 0.0254\n",
    "    feet = total_inches // 12\n",
    "    inches = total_inches % 12\n",
    "    return feet, inches"
   ]
  },
  {
   "cell_type": "code",
   "execution_count": 103,
   "id": "537afa13-466c-4c7a-9f73-d247f96f04ea",
   "metadata": {},
   "outputs": [
    {
     "name": "stdout",
     "output_type": "stream",
     "text": [
      "1.3081 meters is 16.00 feet and 4.85 inches.\n"
     ]
    }
   ],
   "source": [
    "# Example\n",
    "feet, inches = meters_to_feet_and_inches(5)\n",
    "print(f'{meters} meters is {feet:.2f} feet and {inches:.2f} inches.')"
   ]
  },
  {
   "cell_type": "markdown",
   "id": "9a804d62-d4c1-4780-9481-62e43610286a",
   "metadata": {},
   "source": [
    "## 7) Verify that the “round trip” conversion from and back to meters is consistent"
   ]
  },
  {
   "cell_type": "code",
   "execution_count": 111,
   "id": "e59bf2f9-9e10-418d-9d19-ab56b8bdbc10",
   "metadata": {},
   "outputs": [
    {
     "name": "stdout",
     "output_type": "stream",
     "text": [
      "Height 1 (meters): 8\n",
      "Height 1 converted and back (meters): 8.0\n"
     ]
    }
   ],
   "source": [
    "# Example 1\n",
    "height_meters_1 = 8\n",
    "feet, inches = meters_to_feet_and_inches(height_meters_1)\n",
    "converted_height_meters_1 = feet_and_inches_to_meters(feet, inches)\n",
    "print(\"Height 1 (meters):\", height_meters_1)\n",
    "print(\"Height 1 converted and back (meters):\", converted_height_meters_1)"
   ]
  },
  {
   "cell_type": "code",
   "execution_count": 112,
   "id": "2cc9496c-4f52-41ea-be58-6b8e40626413",
   "metadata": {},
   "outputs": [
    {
     "name": "stdout",
     "output_type": "stream",
     "text": [
      "Height 2 (meters): 8.8\n",
      "Height 2 converted and back (meters): 8.8\n"
     ]
    }
   ],
   "source": [
    "# Example 2\n",
    "height_meters_2 = 8.8\n",
    "feet, inches = meters_to_feet_and_inches(height_meters_2)\n",
    "converted_height_meters_2 = feet_and_inches_to_meters(feet, inches)\n",
    "print(\"Height 2 (meters):\", height_meters_2)\n",
    "print(\"Height 2 converted and back (meters):\", converted_height_meters_2)"
   ]
  },
  {
   "cell_type": "code",
   "execution_count": 113,
   "id": "b0aa2078-6485-4ddb-8d7c-7579ac5f833f",
   "metadata": {},
   "outputs": [
    {
     "name": "stdout",
     "output_type": "stream",
     "text": [
      "Height 3 (meters): 8.88\n",
      "Height 3 converted and back (meters): 8.88\n"
     ]
    }
   ],
   "source": [
    "# Example 3\n",
    "height_meters_3 = 8.88\n",
    "feet, inches = meters_to_feet_and_inches(height_meters_3)\n",
    "converted_height_meters_3 = feet_and_inches_to_meters(feet, inches)\n",
    "print(\"Height 3 (meters):\", height_meters_3)\n",
    "print(\"Height 3 converted and back (meters):\", converted_height_meters_3)"
   ]
  }
 ],
 "metadata": {
  "kernelspec": {
   "display_name": "pangeo23",
   "language": "python",
   "name": "pangeo23"
  },
  "language_info": {
   "codemirror_mode": {
    "name": "ipython",
    "version": 3
   },
   "file_extension": ".py",
   "mimetype": "text/x-python",
   "name": "python",
   "nbconvert_exporter": "python",
   "pygments_lexer": "ipython3",
   "version": "3.11.6"
  }
 },
 "nbformat": 4,
 "nbformat_minor": 5
}
